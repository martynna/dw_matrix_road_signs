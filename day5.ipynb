{
  "nbformat": 4,
  "nbformat_minor": 0,
  "metadata": {
    "colab": {
      "name": "day5.ipynb",
      "provenance": [],
      "mount_file_id": "1O5x2cbMccCbHW1KN7S8O0Id4mN_o_r5y",
      "authorship_tag": "ABX9TyOZPqgmvfctQoN5RVuF/h1k",
      "include_colab_link": true
    },
    "kernelspec": {
      "name": "python3",
      "display_name": "Python 3"
    },
    "accelerator": "GPU"
  },
  "cells": [
    {
      "cell_type": "markdown",
      "metadata": {
        "id": "view-in-github",
        "colab_type": "text"
      },
      "source": [
        "<a href=\"https://colab.research.google.com/github/martynna/dw_matrix_road_signs/blob/master/day5.ipynb\" target=\"_parent\"><img src=\"https://colab.research.google.com/assets/colab-badge.svg\" alt=\"Open In Colab\"/></a>"
      ]
    },
    {
      "cell_type": "code",
      "metadata": {
        "id": "8Ox4OoM2r9aW",
        "colab_type": "code",
        "colab": {
          "base_uri": "https://localhost:8080/",
          "height": 190
        },
        "outputId": "e159fcb1-7255-4a36-9d1d-05865051fb38"
      },
      "source": [
        "!pip install hyperopt"
      ],
      "execution_count": 1,
      "outputs": [
        {
          "output_type": "stream",
          "text": [
            "Requirement already satisfied: hyperopt in /usr/local/lib/python3.6/dist-packages (0.1.2)\n",
            "Requirement already satisfied: networkx in /usr/local/lib/python3.6/dist-packages (from hyperopt) (2.4)\n",
            "Requirement already satisfied: six in /usr/local/lib/python3.6/dist-packages (from hyperopt) (1.12.0)\n",
            "Requirement already satisfied: pymongo in /usr/local/lib/python3.6/dist-packages (from hyperopt) (3.10.1)\n",
            "Requirement already satisfied: future in /usr/local/lib/python3.6/dist-packages (from hyperopt) (0.16.0)\n",
            "Requirement already satisfied: numpy in /usr/local/lib/python3.6/dist-packages (from hyperopt) (1.18.2)\n",
            "Requirement already satisfied: scipy in /usr/local/lib/python3.6/dist-packages (from hyperopt) (1.4.1)\n",
            "Requirement already satisfied: tqdm in /usr/local/lib/python3.6/dist-packages (from hyperopt) (4.38.0)\n",
            "Requirement already satisfied: decorator>=4.3.0 in /usr/local/lib/python3.6/dist-packages (from networkx->hyperopt) (4.4.2)\n"
          ],
          "name": "stdout"
        }
      ]
    },
    {
      "cell_type": "code",
      "metadata": {
        "id": "mq06B-HYs-e_",
        "colab_type": "code",
        "colab": {
          "base_uri": "https://localhost:8080/",
          "height": 51
        },
        "outputId": "7cae3496-2f63-43a8-c4ab-14d878604be2"
      },
      "source": [
        "import os\n",
        "import datetime\n",
        "\n",
        "import pandas as pd\n",
        "import numpy as np\n",
        "\n",
        "import tensorflow as tf\n",
        "from tensorflow.keras.models import Sequential\n",
        "from tensorflow.keras.layers import Conv2D, MaxPool2D, Dense, Flatten, Dropout\n",
        "from tensorflow.keras.utils import to_categorical\n",
        "\n",
        "#a tu do zwizualizowania krzywej uczenia wczytujemy tensorboard\n",
        "%load_ext tensorboard \n",
        "\n",
        "import matplotlib.pyplot as plt\n",
        "from skimage import color, exposure\n",
        "from sklearn.metrics import accuracy_score\n",
        "\n",
        "from hyperopt import hp, STATUS_OK, tpe, Trials, fmin"
      ],
      "execution_count": 10,
      "outputs": [
        {
          "output_type": "stream",
          "text": [
            "The tensorboard extension is already loaded. To reload it, use:\n",
            "  %reload_ext tensorboard\n"
          ],
          "name": "stdout"
        }
      ]
    },
    {
      "cell_type": "code",
      "metadata": {
        "id": "rj3g5G2Gtosd",
        "colab_type": "code",
        "colab": {
          "base_uri": "https://localhost:8080/",
          "height": 34
        },
        "outputId": "1c119ad6-e7f3-488d-d800-24219d56faa9"
      },
      "source": [
        "cd '/content/drive/My Drive/Colab Notebooks/matrix/matrix_3/dw_matrix_road_signs'"
      ],
      "execution_count": 2,
      "outputs": [
        {
          "output_type": "stream",
          "text": [
            "/content/drive/My Drive/Colab Notebooks/matrix/matrix_3/dw_matrix_road_signs\n"
          ],
          "name": "stdout"
        }
      ]
    },
    {
      "cell_type": "code",
      "metadata": {
        "id": "isZ7qumttriA",
        "colab_type": "code",
        "colab": {}
      },
      "source": [
        "train = pd.read_pickle('data/train.p')\n",
        "test = pd.read_pickle('data/test.p')\n",
        "\n",
        "X_train, Y_train = train['features'], train['labels']\n",
        "X_test, Y_test = test['features'], test['labels']"
      ],
      "execution_count": 0,
      "outputs": []
    },
    {
      "cell_type": "markdown",
      "metadata": {
        "id": "e4ebX5cmtx0F",
        "colab_type": "text"
      },
      "source": [
        ""
      ]
    },
    {
      "cell_type": "code",
      "metadata": {
        "id": "fOzP8Pedt2VJ",
        "colab_type": "code",
        "colab": {}
      },
      "source": [
        "if Y_train.ndim == 1: Y_train = to_categorical(Y_train)\n",
        "if Y_test.ndim == 1: Y_test = to_categorical(Y_test)\n",
        "\n",
        "input_shape = X_train.shape[1:] #czyli bierzemy wymiary zdjecia i kanaly RGB\n",
        "num_classes = Y_train.shape[1] #czyli ilosc kolumn (rodzajow znakow w tym przypadku)"
      ],
      "execution_count": 0,
      "outputs": []
    },
    {
      "cell_type": "code",
      "metadata": {
        "id": "AmyCZxYiubuS",
        "colab_type": "code",
        "colab": {}
      },
      "source": [
        "def train_model(model, X_train, Y_train, params_fit={}): #params_fit nie jest obowiazkowy, ma domyslne wartosci zainicjowane ponizej\n",
        "  model.compile(loss='categorical_crossentropy', optimizer='Adam', metrics = ['accuracy'])\n",
        "\n",
        "  #sciezka do katalogu w ktorym beda logi:\n",
        "  logdir=os.path.join(\"logs\", datetime.datetime.now().strftime(\"%Y%m%d-%H%M%S\") )\n",
        "  tensorboard_callback = tf.keras.callbacks.TensorBoard(logdir, histogram_freq=1)\n",
        "\n",
        "  model.fit(\n",
        "      X_train, \n",
        "      Y_train,\n",
        "      batch_size = params_fit.get('batch_size', 128), #wielkosc paczek przekazywanych sieci do uczenia sie\n",
        "      epochs = params_fit.get('epochs', 5), #potrzebna do okreslenia ile razy trzeba wstrzyknac batcha zeby byla 1 iteracje (czyli zeby wszystkie dane uczace przepuscic przez model)\n",
        "      verbose = params_fit.get('verbose', 1),\n",
        "      validation_data = params_fit.get('validation_data', (X_train, Y_train)), #aby obserwowac na ile model sie przyuczyl, po danej iteracji\n",
        "      callbacks = [tensorboard_callback]\n",
        "      )\n",
        "  \n",
        "  return(model)\n",
        "\n",
        "def predict(model_trained, X_array, Y_array, scoring = accuracy_score):\n",
        "  y_test_norm = np.argmax(Y_array, axis=1)\n",
        "\n",
        "  y_predict_prob = model_trained.predict(X_array)\n",
        "  y_pred = np.argmax(y_predict_prob, axis=1) #wartosc sprognozowana\n",
        "\n",
        "  return accuracy_score(y_test_norm, y_pred)"
      ],
      "execution_count": 0,
      "outputs": []
    },
    {
      "cell_type": "code",
      "metadata": {
        "id": "JO_IT6FNu8S6",
        "colab_type": "code",
        "colab": {}
      },
      "source": [
        "def get_cnn_v5(input_shape, num_classes):\n",
        "  return Sequential([\n",
        "                    Conv2D(filters=32, kernel_size=(3,3), activation='relu', input_shape=input_shape), #siec konwolucyjna\n",
        "                    Conv2D(filters=32, kernel_size=(3,3), activation='relu', padding = 'same'),\n",
        "                    MaxPool2D(),\n",
        "                    Dropout(0.3),\n",
        "\n",
        "                    Conv2D(filters=64, kernel_size=(3,3), activation='relu', padding = 'same'), #siec konwolucyjna - regula podwajania filtrow w stosunku do poprzedniej warstwy\n",
        "                    Conv2D(filters=64, kernel_size=(3,3), activation='relu'),\n",
        "                    MaxPool2D(),\n",
        "                    Dropout(0.3), #zeby model sie nie przeuczyl/ przyuczyl zbyt szybko\n",
        "\n",
        "                    Conv2D(filters=64, kernel_size=(3,3), activation='relu', padding = 'same'), #padding - dodajemy zera do obrazka, zeby nie zmniejszal sie jego wymiar z kazda kolejna warstwa\n",
        "                    Conv2D(filters=64, kernel_size=(3,3), activation='relu'),\n",
        "                    MaxPool2D(),\n",
        "                    Dropout(0.3),\n",
        "                     \n",
        "                    Flatten(),\n",
        "                     \n",
        "                    Dense(1024, activation='relu'),\n",
        "                    Dropout(0.3),\n",
        "                     \n",
        "                    Dense(1024, activation='relu'),\n",
        "                    Dropout(0.3),\n",
        "\n",
        "                    Dense(num_classes, activation='softmax'),\n",
        "])"
      ],
      "execution_count": 0,
      "outputs": []
    },
    {
      "cell_type": "code",
      "metadata": {
        "id": "hLfiB1avvPQ1",
        "colab_type": "code",
        "colab": {
          "base_uri": "https://localhost:8080/",
          "height": 224
        },
        "outputId": "2d374fe7-b256-4101-9d80-87cb0d6d3f59"
      },
      "source": [
        "model = get_cnn_v5(input_shape, num_classes)\n",
        "\n",
        "trained_mod = train_model(model, X_train, Y_train)\n",
        "predict(trained_mod, X_test, Y_test)\n"
      ],
      "execution_count": 7,
      "outputs": [
        {
          "output_type": "stream",
          "text": [
            "Epoch 1/5\n",
            "272/272 [==============================] - 5s 19ms/step - loss: 2.7917 - accuracy: 0.2425 - val_loss: 1.5604 - val_accuracy: 0.4708\n",
            "Epoch 2/5\n",
            "272/272 [==============================] - 5s 18ms/step - loss: 1.0845 - accuracy: 0.6494 - val_loss: 0.3151 - val_accuracy: 0.9035\n",
            "Epoch 3/5\n",
            "272/272 [==============================] - 5s 18ms/step - loss: 0.4688 - accuracy: 0.8520 - val_loss: 0.1062 - val_accuracy: 0.9685\n",
            "Epoch 4/5\n",
            "272/272 [==============================] - 5s 18ms/step - loss: 0.2794 - accuracy: 0.9134 - val_loss: 0.0586 - val_accuracy: 0.9822\n",
            "Epoch 5/5\n",
            "272/272 [==============================] - 5s 17ms/step - loss: 0.2163 - accuracy: 0.9335 - val_loss: 0.0587 - val_accuracy: 0.9821\n"
          ],
          "name": "stdout"
        },
        {
          "output_type": "execute_result",
          "data": {
            "text/plain": [
              "0.9492063492063492"
            ]
          },
          "metadata": {
            "tags": []
          },
          "execution_count": 7
        }
      ]
    },
    {
      "cell_type": "code",
      "metadata": {
        "id": "0uZNnZHe2_sV",
        "colab_type": "code",
        "colab": {}
      },
      "source": [
        "def get_model(params):\n",
        "  return Sequential([\n",
        "                    Conv2D(filters=32, kernel_size=(3,3), activation='relu', input_shape=input_shape), #siec konwolucyjna\n",
        "                    Conv2D(filters=32, kernel_size=(3,3), activation='relu', padding = 'same'),\n",
        "                    MaxPool2D(),\n",
        "                    Dropout(params['dropout_cnn_block_one']),\n",
        "\n",
        "                    Conv2D(filters=64, kernel_size=(3,3), activation='relu', padding = 'same'), #siec konwolucyjna - regula podwajania filtrow w stosunku do poprzedniej warstwy\n",
        "                    Conv2D(filters=64, kernel_size=(3,3), activation='relu'),\n",
        "                    MaxPool2D(),\n",
        "                    Dropout(params['dropout_cnn_block_two']), #zeby model sie nie przeuczyl/ przyuczyl zbyt szybko\n",
        "\n",
        "                    Conv2D(filters=128, kernel_size=(3,3), activation='relu', padding = 'same'), #padding - dodajemy zera do obrazka, zeby nie zmniejszal sie jego wymiar z kazda kolejna warstwa\n",
        "                    Conv2D(filters=128, kernel_size=(3,3), activation='relu'),\n",
        "                    MaxPool2D(),\n",
        "                    Dropout(params['dropout_cnn_block_three']),\n",
        "                     \n",
        "                    Flatten(),\n",
        "                     \n",
        "                    Dense(1024, activation='relu'),\n",
        "                    Dropout(params['dropout_dense_block_one']),\n",
        "                     \n",
        "                    Dense(1024, activation='relu'),\n",
        "                    Dropout(params['dropout_dense_block_two']),\n",
        "\n",
        "                    Dense(num_classes, activation='softmax'),\n",
        "])"
      ],
      "execution_count": 0,
      "outputs": []
    },
    {
      "cell_type": "code",
      "metadata": {
        "id": "qPTbCJVjv_ai",
        "colab_type": "code",
        "colab": {}
      },
      "source": [
        "def func_obj(params): #pudlo logiczne, black-box\n",
        "  model = get_model(params)\n",
        "  model.compile(loss='categorical_crossentropy', optimizer='Adam', metrics = ['accuracy'])\n",
        "\n",
        "  model.fit(\n",
        "      X_train, \n",
        "      Y_train,\n",
        "      batch_size = int(params.get('batch_size', 128)), #wielkosc paczek przekazywanych sieci do uczenia sie\n",
        "      epochs = 5, #potrzebna do okreslenia ile razy trzeba wstrzyknac batcha, zeby byla 1 iteracje (czyli zeby wszystkie dane uczace przepuscic przez model)\n",
        "      verbose = 0,\n",
        "      )\n",
        "  \n",
        "  score = model.evaluate(X_test, Y_test, verbose=0)\n",
        "  accuracy=score[1]\n",
        "  print(params, 'accuracy{}'.format(params))\n",
        "\n",
        "  return {'loss': -accuracy, 'status': STATUS_OK, 'model': model } #-accuracy, bo dazymy do minimum wiec maksymalny accuracy chcemy przerzucic na ujemna, zeby bylo najmniejsze"
      ],
      "execution_count": 0,
      "outputs": []
    },
    {
      "cell_type": "code",
      "metadata": {
        "id": "J8Wn7XWSyJXk",
        "colab_type": "code",
        "colab": {
          "base_uri": "https://localhost:8080/",
          "height": 1000
        },
        "outputId": "1ee4dfc6-c785-47e1-ef92-fe74d67bb5bf"
      },
      "source": [
        "space = {\n",
        "    'batch_size' : hp.quniform('batch_size', 50, 200, 20), #od 50 do 200 z krokiem 20\n",
        "    'dropout_cnn_block_one' : hp.uniform('dropout_cnn_block_one', 0.2, 0.7),\n",
        "    'dropout_cnn_block_two' : hp.uniform('dropout_cnn_block_two', 0.2, 0.7),\n",
        "    'dropout_cnn_block_three' : hp.uniform('dropout_cnn_block_three', 0.2, 0.7),\n",
        "\n",
        "    'dropout_dense_block_one' : hp.uniform('dropout_dense_block_one', 0.2, 0.7),\n",
        "    'dropout_dense_block_two' : hp.uniform('dropout_dense_block_two', 0.2, 0.7)\n",
        "}\n",
        "\n",
        "best = fmin(\n",
        "    func_obj,\n",
        "    space,\n",
        "    tpe.suggest,\n",
        "    30,\n",
        "    Trials()\n",
        ")"
      ],
      "execution_count": 27,
      "outputs": [
        {
          "output_type": "stream",
          "text": [
            "{'batch_size': 100.0, 'dropout_cnn_block_one': 0.4545404789134465, 'dropout_cnn_block_three': 0.6018913196081208, 'dropout_cnn_block_two': 0.3939717610019611, 'dropout_dense_block_one': 0.3728274797037089, 'dropout_dense_block_two': 0.3291796172531746}\n",
            "accuracy{'batch_size': 100.0, 'dropout_cnn_block_one': 0.4545404789134465, 'dropout_cnn_block_three': 0.6018913196081208, 'dropout_cnn_block_two': 0.3939717610019611, 'dropout_dense_block_one': 0.3728274797037089, 'dropout_dense_block_two': 0.3291796172531746}\n",
            "{'batch_size': 180.0, 'dropout_cnn_block_one': 0.2848670232926903, 'dropout_cnn_block_three': 0.23643379607212228, 'dropout_cnn_block_two': 0.20269452397647264, 'dropout_dense_block_one': 0.48787838020131863, 'dropout_dense_block_two': 0.6982010061555056}\n",
            "accuracy{'batch_size': 180.0, 'dropout_cnn_block_one': 0.2848670232926903, 'dropout_cnn_block_three': 0.23643379607212228, 'dropout_cnn_block_two': 0.20269452397647264, 'dropout_dense_block_one': 0.48787838020131863, 'dropout_dense_block_two': 0.6982010061555056}\n",
            "{'batch_size': 120.0, 'dropout_cnn_block_one': 0.47935998773115496, 'dropout_cnn_block_three': 0.4776311307422212, 'dropout_cnn_block_two': 0.5615658779420889, 'dropout_dense_block_one': 0.5467214044045579, 'dropout_dense_block_two': 0.3155071927369275}\n",
            "accuracy{'batch_size': 120.0, 'dropout_cnn_block_one': 0.47935998773115496, 'dropout_cnn_block_three': 0.4776311307422212, 'dropout_cnn_block_two': 0.5615658779420889, 'dropout_dense_block_one': 0.5467214044045579, 'dropout_dense_block_two': 0.3155071927369275}\n",
            "{'batch_size': 120.0, 'dropout_cnn_block_one': 0.39813249289313957, 'dropout_cnn_block_three': 0.4815299140406337, 'dropout_cnn_block_two': 0.627111960453292, 'dropout_dense_block_one': 0.20135692499455465, 'dropout_dense_block_two': 0.6765640222834088}\n",
            "accuracy{'batch_size': 120.0, 'dropout_cnn_block_one': 0.39813249289313957, 'dropout_cnn_block_three': 0.4815299140406337, 'dropout_cnn_block_two': 0.627111960453292, 'dropout_dense_block_one': 0.20135692499455465, 'dropout_dense_block_two': 0.6765640222834088}\n",
            "{'batch_size': 140.0, 'dropout_cnn_block_one': 0.3153227451922394, 'dropout_cnn_block_three': 0.30610537821920347, 'dropout_cnn_block_two': 0.427272453182441, 'dropout_dense_block_one': 0.6901951244981516, 'dropout_dense_block_two': 0.6580482373710628}\n",
            "accuracy{'batch_size': 140.0, 'dropout_cnn_block_one': 0.3153227451922394, 'dropout_cnn_block_three': 0.30610537821920347, 'dropout_cnn_block_two': 0.427272453182441, 'dropout_dense_block_one': 0.6901951244981516, 'dropout_dense_block_two': 0.6580482373710628}\n",
            "{'batch_size': 140.0, 'dropout_cnn_block_one': 0.5004122557884776, 'dropout_cnn_block_three': 0.5394993029460176, 'dropout_cnn_block_two': 0.6317376685746174, 'dropout_dense_block_one': 0.4140684371579372, 'dropout_dense_block_two': 0.35037107150193725}\n",
            "accuracy{'batch_size': 140.0, 'dropout_cnn_block_one': 0.5004122557884776, 'dropout_cnn_block_three': 0.5394993029460176, 'dropout_cnn_block_two': 0.6317376685746174, 'dropout_dense_block_one': 0.4140684371579372, 'dropout_dense_block_two': 0.35037107150193725}\n",
            "{'batch_size': 200.0, 'dropout_cnn_block_one': 0.6232794812693019, 'dropout_cnn_block_three': 0.6151686865990935, 'dropout_cnn_block_two': 0.23940696321687782, 'dropout_dense_block_one': 0.31867032767386916, 'dropout_dense_block_two': 0.3352797072507102}\n",
            "accuracy{'batch_size': 200.0, 'dropout_cnn_block_one': 0.6232794812693019, 'dropout_cnn_block_three': 0.6151686865990935, 'dropout_cnn_block_two': 0.23940696321687782, 'dropout_dense_block_one': 0.31867032767386916, 'dropout_dense_block_two': 0.3352797072507102}\n",
            "{'batch_size': 140.0, 'dropout_cnn_block_one': 0.6983762757704017, 'dropout_cnn_block_three': 0.5169876767692986, 'dropout_cnn_block_two': 0.45440355128283655, 'dropout_dense_block_one': 0.33756131073700957, 'dropout_dense_block_two': 0.4037773590235827}\n",
            "accuracy{'batch_size': 140.0, 'dropout_cnn_block_one': 0.6983762757704017, 'dropout_cnn_block_three': 0.5169876767692986, 'dropout_cnn_block_two': 0.45440355128283655, 'dropout_dense_block_one': 0.33756131073700957, 'dropout_dense_block_two': 0.4037773590235827}\n",
            "{'batch_size': 200.0, 'dropout_cnn_block_one': 0.2821702557164834, 'dropout_cnn_block_three': 0.2915263123008105, 'dropout_cnn_block_two': 0.3187169149273624, 'dropout_dense_block_one': 0.42833362177612155, 'dropout_dense_block_two': 0.30224976812178656}\n",
            "accuracy{'batch_size': 200.0, 'dropout_cnn_block_one': 0.2821702557164834, 'dropout_cnn_block_three': 0.2915263123008105, 'dropout_cnn_block_two': 0.3187169149273624, 'dropout_dense_block_one': 0.42833362177612155, 'dropout_dense_block_two': 0.30224976812178656}\n",
            "{'batch_size': 180.0, 'dropout_cnn_block_one': 0.6965221509626969, 'dropout_cnn_block_three': 0.4032801957563562, 'dropout_cnn_block_two': 0.2621752123365627, 'dropout_dense_block_one': 0.43399706003977934, 'dropout_dense_block_two': 0.6863797436815102}\n",
            "accuracy{'batch_size': 180.0, 'dropout_cnn_block_one': 0.6965221509626969, 'dropout_cnn_block_three': 0.4032801957563562, 'dropout_cnn_block_two': 0.2621752123365627, 'dropout_dense_block_one': 0.43399706003977934, 'dropout_dense_block_two': 0.6863797436815102}\n",
            "{'batch_size': 180.0, 'dropout_cnn_block_one': 0.5165057730105469, 'dropout_cnn_block_three': 0.3815388270587142, 'dropout_cnn_block_two': 0.6824176417864922, 'dropout_dense_block_one': 0.483590781781737, 'dropout_dense_block_two': 0.3441408786641953}\n",
            "accuracy{'batch_size': 180.0, 'dropout_cnn_block_one': 0.5165057730105469, 'dropout_cnn_block_three': 0.3815388270587142, 'dropout_cnn_block_two': 0.6824176417864922, 'dropout_dense_block_one': 0.483590781781737, 'dropout_dense_block_two': 0.3441408786641953}\n",
            "{'batch_size': 180.0, 'dropout_cnn_block_one': 0.41093764056700155, 'dropout_cnn_block_three': 0.5153917168765673, 'dropout_cnn_block_two': 0.3941685681349296, 'dropout_dense_block_one': 0.4467572735831181, 'dropout_dense_block_two': 0.4634063374669173}\n",
            "accuracy{'batch_size': 180.0, 'dropout_cnn_block_one': 0.41093764056700155, 'dropout_cnn_block_three': 0.5153917168765673, 'dropout_cnn_block_two': 0.3941685681349296, 'dropout_dense_block_one': 0.4467572735831181, 'dropout_dense_block_two': 0.4634063374669173}\n",
            "{'batch_size': 80.0, 'dropout_cnn_block_one': 0.43444462437230214, 'dropout_cnn_block_three': 0.6152282205621787, 'dropout_cnn_block_two': 0.6189992057557676, 'dropout_dense_block_one': 0.623492963298419, 'dropout_dense_block_two': 0.6100148529600404}\n",
            "accuracy{'batch_size': 80.0, 'dropout_cnn_block_one': 0.43444462437230214, 'dropout_cnn_block_three': 0.6152282205621787, 'dropout_cnn_block_two': 0.6189992057557676, 'dropout_dense_block_one': 0.623492963298419, 'dropout_dense_block_two': 0.6100148529600404}\n",
            "{'batch_size': 180.0, 'dropout_cnn_block_one': 0.5659053233823175, 'dropout_cnn_block_three': 0.39666227880356963, 'dropout_cnn_block_two': 0.4343407071992602, 'dropout_dense_block_one': 0.6213036105854006, 'dropout_dense_block_two': 0.36119484991946904}\n",
            "accuracy{'batch_size': 180.0, 'dropout_cnn_block_one': 0.5659053233823175, 'dropout_cnn_block_three': 0.39666227880356963, 'dropout_cnn_block_two': 0.4343407071992602, 'dropout_dense_block_one': 0.6213036105854006, 'dropout_dense_block_two': 0.36119484991946904}\n",
            "{'batch_size': 140.0, 'dropout_cnn_block_one': 0.6236399346457449, 'dropout_cnn_block_three': 0.6062678322968715, 'dropout_cnn_block_two': 0.671570153186805, 'dropout_dense_block_one': 0.5408416422451514, 'dropout_dense_block_two': 0.685780545369489}\n",
            "accuracy{'batch_size': 140.0, 'dropout_cnn_block_one': 0.6236399346457449, 'dropout_cnn_block_three': 0.6062678322968715, 'dropout_cnn_block_two': 0.671570153186805, 'dropout_dense_block_one': 0.5408416422451514, 'dropout_dense_block_two': 0.685780545369489}\n",
            "{'batch_size': 140.0, 'dropout_cnn_block_one': 0.5307163727117024, 'dropout_cnn_block_three': 0.43951669979278607, 'dropout_cnn_block_two': 0.39815614275509825, 'dropout_dense_block_one': 0.3029833215696022, 'dropout_dense_block_two': 0.5291032275378619}\n",
            "accuracy{'batch_size': 140.0, 'dropout_cnn_block_one': 0.5307163727117024, 'dropout_cnn_block_three': 0.43951669979278607, 'dropout_cnn_block_two': 0.39815614275509825, 'dropout_dense_block_one': 0.3029833215696022, 'dropout_dense_block_two': 0.5291032275378619}\n",
            "{'batch_size': 80.0, 'dropout_cnn_block_one': 0.6094652191613246, 'dropout_cnn_block_three': 0.5347849639740576, 'dropout_cnn_block_two': 0.3509182402304768, 'dropout_dense_block_one': 0.2431904169736117, 'dropout_dense_block_two': 0.44638447352031807}\n",
            "accuracy{'batch_size': 80.0, 'dropout_cnn_block_one': 0.6094652191613246, 'dropout_cnn_block_three': 0.5347849639740576, 'dropout_cnn_block_two': 0.3509182402304768, 'dropout_dense_block_one': 0.2431904169736117, 'dropout_dense_block_two': 0.44638447352031807}\n",
            "{'batch_size': 200.0, 'dropout_cnn_block_one': 0.532001205626726, 'dropout_cnn_block_three': 0.43706966310447826, 'dropout_cnn_block_two': 0.4491510231303515, 'dropout_dense_block_one': 0.2450005119913281, 'dropout_dense_block_two': 0.5957032503923156}\n",
            "accuracy{'batch_size': 200.0, 'dropout_cnn_block_one': 0.532001205626726, 'dropout_cnn_block_three': 0.43706966310447826, 'dropout_cnn_block_two': 0.4491510231303515, 'dropout_dense_block_one': 0.2450005119913281, 'dropout_dense_block_two': 0.5957032503923156}\n",
            "{'batch_size': 80.0, 'dropout_cnn_block_one': 0.3419413243805093, 'dropout_cnn_block_three': 0.4879785122383199, 'dropout_cnn_block_two': 0.4428552669032413, 'dropout_dense_block_one': 0.33747632738605426, 'dropout_dense_block_two': 0.30311280142500313}\n",
            "accuracy{'batch_size': 80.0, 'dropout_cnn_block_one': 0.3419413243805093, 'dropout_cnn_block_three': 0.4879785122383199, 'dropout_cnn_block_two': 0.4428552669032413, 'dropout_dense_block_one': 0.33747632738605426, 'dropout_dense_block_two': 0.30311280142500313}\n",
            "{'batch_size': 180.0, 'dropout_cnn_block_one': 0.4680928347360474, 'dropout_cnn_block_three': 0.22444290894284769, 'dropout_cnn_block_two': 0.5555284600711873, 'dropout_dense_block_one': 0.4836939456339787, 'dropout_dense_block_two': 0.38666971513349213}\n",
            "accuracy{'batch_size': 180.0, 'dropout_cnn_block_one': 0.4680928347360474, 'dropout_cnn_block_three': 0.22444290894284769, 'dropout_cnn_block_two': 0.5555284600711873, 'dropout_dense_block_one': 0.4836939456339787, 'dropout_dense_block_two': 0.38666971513349213}\n",
            "{'batch_size': 60.0, 'dropout_cnn_block_one': 0.20815281987153925, 'dropout_cnn_block_three': 0.3128821293066636, 'dropout_cnn_block_two': 0.303449772322725, 'dropout_dense_block_one': 0.3896327072731074, 'dropout_dense_block_two': 0.22143665116314293}\n",
            "accuracy{'batch_size': 60.0, 'dropout_cnn_block_one': 0.20815281987153925, 'dropout_cnn_block_three': 0.3128821293066636, 'dropout_cnn_block_two': 0.303449772322725, 'dropout_dense_block_one': 0.3896327072731074, 'dropout_dense_block_two': 0.22143665116314293}\n",
            "{'batch_size': 60.0, 'dropout_cnn_block_one': 0.34300421711331514, 'dropout_cnn_block_three': 0.32643333209613623, 'dropout_cnn_block_two': 0.49981032327584907, 'dropout_dense_block_one': 0.2792271593988489, 'dropout_dense_block_two': 0.2396026980829932}\n",
            "accuracy{'batch_size': 60.0, 'dropout_cnn_block_one': 0.34300421711331514, 'dropout_cnn_block_three': 0.32643333209613623, 'dropout_cnn_block_two': 0.49981032327584907, 'dropout_dense_block_one': 0.2792271593988489, 'dropout_dense_block_two': 0.2396026980829932}\n",
            "{'batch_size': 100.0, 'dropout_cnn_block_one': 0.20317929941929008, 'dropout_cnn_block_three': 0.6990230964638111, 'dropout_cnn_block_two': 0.33619118651972646, 'dropout_dense_block_one': 0.3582264539953557, 'dropout_dense_block_two': 0.27557337018028977}\n",
            "accuracy{'batch_size': 100.0, 'dropout_cnn_block_one': 0.20317929941929008, 'dropout_cnn_block_three': 0.6990230964638111, 'dropout_cnn_block_two': 0.33619118651972646, 'dropout_dense_block_one': 0.3582264539953557, 'dropout_dense_block_two': 0.27557337018028977}\n",
            "{'batch_size': 80.0, 'dropout_cnn_block_one': 0.24676334809461786, 'dropout_cnn_block_three': 0.277892981142126, 'dropout_cnn_block_two': 0.29942080491350076, 'dropout_dense_block_one': 0.20082943316424579, 'dropout_dense_block_two': 0.27294710101555997}\n",
            "accuracy{'batch_size': 80.0, 'dropout_cnn_block_one': 0.24676334809461786, 'dropout_cnn_block_three': 0.277892981142126, 'dropout_cnn_block_two': 0.29942080491350076, 'dropout_dense_block_one': 0.20082943316424579, 'dropout_dense_block_two': 0.27294710101555997}\n",
            "{'batch_size': 100.0, 'dropout_cnn_block_one': 0.35992065034795745, 'dropout_cnn_block_three': 0.3620912194600197, 'dropout_cnn_block_two': 0.5086947615063042, 'dropout_dense_block_one': 0.5519029592363421, 'dropout_dense_block_two': 0.20251607887197462}\n",
            "accuracy{'batch_size': 100.0, 'dropout_cnn_block_one': 0.35992065034795745, 'dropout_cnn_block_three': 0.3620912194600197, 'dropout_cnn_block_two': 0.5086947615063042, 'dropout_dense_block_one': 0.5519029592363421, 'dropout_dense_block_two': 0.20251607887197462}\n",
            "{'batch_size': 160.0, 'dropout_cnn_block_one': 0.2573828545890215, 'dropout_cnn_block_three': 0.6888293748019076, 'dropout_cnn_block_two': 0.34656264367649214, 'dropout_dense_block_one': 0.4001438017293817, 'dropout_dense_block_two': 0.2875952303359888}\n",
            "accuracy{'batch_size': 160.0, 'dropout_cnn_block_one': 0.2573828545890215, 'dropout_cnn_block_three': 0.6888293748019076, 'dropout_cnn_block_two': 0.34656264367649214, 'dropout_dense_block_one': 0.4001438017293817, 'dropout_dense_block_two': 0.2875952303359888}\n",
            "{'batch_size': 60.0, 'dropout_cnn_block_one': 0.3705917527935168, 'dropout_cnn_block_three': 0.2003377633408412, 'dropout_cnn_block_two': 0.49921843435328384, 'dropout_dense_block_one': 0.2686639747350754, 'dropout_dense_block_two': 0.46981663111685096}\n",
            "accuracy{'batch_size': 60.0, 'dropout_cnn_block_one': 0.3705917527935168, 'dropout_cnn_block_three': 0.2003377633408412, 'dropout_cnn_block_two': 0.49921843435328384, 'dropout_dense_block_one': 0.2686639747350754, 'dropout_dense_block_two': 0.46981663111685096}\n",
            "{'batch_size': 160.0, 'dropout_cnn_block_one': 0.30880721163663477, 'dropout_cnn_block_three': 0.5752143151721851, 'dropout_cnn_block_two': 0.24383328076806055, 'dropout_dense_block_one': 0.3338520367266822, 'dropout_dense_block_two': 0.42024393447113834}\n",
            "accuracy{'batch_size': 160.0, 'dropout_cnn_block_one': 0.30880721163663477, 'dropout_cnn_block_three': 0.5752143151721851, 'dropout_cnn_block_two': 0.24383328076806055, 'dropout_dense_block_one': 0.3338520367266822, 'dropout_dense_block_two': 0.42024393447113834}\n",
            "{'batch_size': 160.0, 'dropout_cnn_block_one': 0.29836052576998773, 'dropout_cnn_block_three': 0.6578998650148052, 'dropout_cnn_block_two': 0.2109112073088363, 'dropout_dense_block_one': 0.3655095170010375, 'dropout_dense_block_two': 0.5133044485065056}\n",
            "accuracy{'batch_size': 160.0, 'dropout_cnn_block_one': 0.29836052576998773, 'dropout_cnn_block_three': 0.6578998650148052, 'dropout_cnn_block_two': 0.2109112073088363, 'dropout_dense_block_one': 0.3655095170010375, 'dropout_dense_block_two': 0.5133044485065056}\n",
            "{'batch_size': 160.0, 'dropout_cnn_block_one': 0.24571703071965392, 'dropout_cnn_block_three': 0.5670093892487615, 'dropout_cnn_block_two': 0.26867709281756824, 'dropout_dense_block_one': 0.5159431829084862, 'dropout_dense_block_two': 0.40737963953393963}\n",
            "accuracy{'batch_size': 160.0, 'dropout_cnn_block_one': 0.24571703071965392, 'dropout_cnn_block_three': 0.5670093892487615, 'dropout_cnn_block_two': 0.26867709281756824, 'dropout_dense_block_one': 0.5159431829084862, 'dropout_dense_block_two': 0.40737963953393963}\n",
            "100%|██████████| 30/30 [07:43<00:00, 15.46s/it, best loss: -0.9793650507926941]\n"
          ],
          "name": "stdout"
        }
      ]
    },
    {
      "cell_type": "code",
      "metadata": {
        "id": "eYyxKlFf1i0R",
        "colab_type": "code",
        "colab": {}
      },
      "source": [
        ""
      ],
      "execution_count": 0,
      "outputs": []
    }
  ]
}